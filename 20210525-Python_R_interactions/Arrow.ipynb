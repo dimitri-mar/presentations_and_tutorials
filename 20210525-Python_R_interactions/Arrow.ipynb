{
 "cells": [
  {
   "cell_type": "markdown",
   "id": "9a3f1378",
   "metadata": {},
   "source": [
    "# Apache Arrow\n",
    "\n",
    "From https://arrow.apache.org/docs/r/:\n",
    "## What can the `arrow` package do?\n",
    "\n",
    "-   Read and write **Parquet files** (`read_parquet()`,\n",
    "    `write_parquet()`), an efficient and widely used columnar format\n",
    "-   Read and write **Feather files** (`read_feather()`,\n",
    "    `write_feather()`), a format optimized for speed and\n",
    "    interoperability\n",
    "-   Analyze, process, and write **multi-file, larger-than-memory\n",
    "    datasets** (`open_dataset()`, `write_dataset()`)\n",
    "-   Read **large CSV and JSON files** with excellent **speed and\n",
    "    efficiency** (`read_csv_arrow()`, `read_json_arrow()`)\n",
    "-   Manipulate and analyze Arrow data with **`dplyr` verbs**\n",
    "-   Read and write files in **Amazon S3** buckets with no additional\n",
    "    function calls\n",
    "-   Exercise **fine control over column types** for seamless\n",
    "    interoperability with databases and data warehouse systems\n",
    "-   Use **compression codecs** including Snappy, gzip, Brotli,\n",
    "    Zstandard, LZ4, LZO, and bzip2 for reading and writing data\n",
    "-   Enable **zero-copy data sharing** between **R and Python**\n",
    "-   Connect to **Arrow Flight** RPC servers to send and receive large\n",
    "    datasets over networks\n",
    "-   Access and manipulate Arrow objects through **low-level bindings**\n",
    "    to the C++ library\n",
    "-   Provide a **toolkit for building connectors** to other applications\n",
    "    and services that use Arrow\n",
    "\n"
   ]
  },
  {
   "cell_type": "code",
   "execution_count": 46,
   "id": "343a7075",
   "metadata": {},
   "outputs": [],
   "source": [
    "import pyarrow as pa\n",
    "import pandas as pd"
   ]
  },
  {
   "cell_type": "markdown",
   "id": "eb5aed1f",
   "metadata": {},
   "source": [
    "let's start by converting a dataset to arrow"
   ]
  },
  {
   "cell_type": "code",
   "execution_count": 79,
   "id": "1c0e3322",
   "metadata": {},
   "outputs": [
    {
     "data": {
      "text/html": [
       "<div>\n",
       "<style scoped>\n",
       "    .dataframe tbody tr th:only-of-type {\n",
       "        vertical-align: middle;\n",
       "    }\n",
       "\n",
       "    .dataframe tbody tr th {\n",
       "        vertical-align: top;\n",
       "    }\n",
       "\n",
       "    .dataframe thead th {\n",
       "        text-align: right;\n",
       "    }\n",
       "</style>\n",
       "<table border=\"1\" class=\"dataframe\">\n",
       "  <thead>\n",
       "    <tr style=\"text-align: right;\">\n",
       "      <th></th>\n",
       "      <th>method</th>\n",
       "      <th>number</th>\n",
       "      <th>orbital_period</th>\n",
       "      <th>mass</th>\n",
       "      <th>distance</th>\n",
       "      <th>year</th>\n",
       "    </tr>\n",
       "  </thead>\n",
       "  <tbody>\n",
       "    <tr>\n",
       "      <th>0</th>\n",
       "      <td>Radial Velocity</td>\n",
       "      <td>1</td>\n",
       "      <td>269.300</td>\n",
       "      <td>7.10</td>\n",
       "      <td>77.40</td>\n",
       "      <td>2006</td>\n",
       "    </tr>\n",
       "    <tr>\n",
       "      <th>1</th>\n",
       "      <td>Radial Velocity</td>\n",
       "      <td>1</td>\n",
       "      <td>874.774</td>\n",
       "      <td>2.21</td>\n",
       "      <td>56.95</td>\n",
       "      <td>2008</td>\n",
       "    </tr>\n",
       "    <tr>\n",
       "      <th>2</th>\n",
       "      <td>Radial Velocity</td>\n",
       "      <td>1</td>\n",
       "      <td>763.000</td>\n",
       "      <td>2.60</td>\n",
       "      <td>19.84</td>\n",
       "      <td>2011</td>\n",
       "    </tr>\n",
       "    <tr>\n",
       "      <th>3</th>\n",
       "      <td>Radial Velocity</td>\n",
       "      <td>1</td>\n",
       "      <td>326.030</td>\n",
       "      <td>19.40</td>\n",
       "      <td>110.62</td>\n",
       "      <td>2007</td>\n",
       "    </tr>\n",
       "    <tr>\n",
       "      <th>4</th>\n",
       "      <td>Radial Velocity</td>\n",
       "      <td>1</td>\n",
       "      <td>516.220</td>\n",
       "      <td>10.50</td>\n",
       "      <td>119.47</td>\n",
       "      <td>2009</td>\n",
       "    </tr>\n",
       "  </tbody>\n",
       "</table>\n",
       "</div>"
      ],
      "text/plain": [
       "            method  number  orbital_period   mass  distance  year\n",
       "0  Radial Velocity       1         269.300   7.10     77.40  2006\n",
       "1  Radial Velocity       1         874.774   2.21     56.95  2008\n",
       "2  Radial Velocity       1         763.000   2.60     19.84  2011\n",
       "3  Radial Velocity       1         326.030  19.40    110.62  2007\n",
       "4  Radial Velocity       1         516.220  10.50    119.47  2009"
      ]
     },
     "execution_count": 79,
     "metadata": {},
     "output_type": "execute_result"
    }
   ],
   "source": [
    "import seaborn as sns\n",
    "planets = sns.load_dataset(\"planets\")\n",
    "planets.head()"
   ]
  },
  {
   "cell_type": "code",
   "execution_count": 80,
   "id": "a1ff61c8",
   "metadata": {},
   "outputs": [
    {
     "data": {
      "text/plain": [
       "Radial Velocity                  553\n",
       "Transit                          397\n",
       "Imaging                           38\n",
       "Microlensing                      23\n",
       "Eclipse Timing Variations          9\n",
       "Pulsar Timing                      5\n",
       "Transit Timing Variations          4\n",
       "Orbital Brightness Modulation      3\n",
       "Astrometry                         2\n",
       "Pulsation Timing Variations        1\n",
       "Name: method, dtype: int64"
      ]
     },
     "execution_count": 80,
     "metadata": {},
     "output_type": "execute_result"
    }
   ],
   "source": [
    "planets[\"method\"].value_counts()"
   ]
  },
  {
   "cell_type": "code",
   "execution_count": 81,
   "id": "da4e7ccc",
   "metadata": {},
   "outputs": [
    {
     "data": {
      "text/plain": [
       "0       2006\n",
       "1       2008\n",
       "2       2011\n",
       "3       2007\n",
       "4       2009\n",
       "        ... \n",
       "1030    2006\n",
       "1031    2007\n",
       "1032    2007\n",
       "1033    2008\n",
       "1034    2008\n",
       "Name: year, Length: 1035, dtype: object"
      ]
     },
     "execution_count": 81,
     "metadata": {},
     "output_type": "execute_result"
    }
   ],
   "source": [
    "planets[\"year\"].astype(str)"
   ]
  },
  {
   "cell_type": "code",
   "execution_count": 82,
   "id": "c71e1476",
   "metadata": {},
   "outputs": [
    {
     "data": {
      "text/html": [
       "<div>\n",
       "<style scoped>\n",
       "    .dataframe tbody tr th:only-of-type {\n",
       "        vertical-align: middle;\n",
       "    }\n",
       "\n",
       "    .dataframe tbody tr th {\n",
       "        vertical-align: top;\n",
       "    }\n",
       "\n",
       "    .dataframe thead th {\n",
       "        text-align: right;\n",
       "    }\n",
       "</style>\n",
       "<table border=\"1\" class=\"dataframe\">\n",
       "  <thead>\n",
       "    <tr style=\"text-align: right;\">\n",
       "      <th></th>\n",
       "      <th>method</th>\n",
       "      <th>number</th>\n",
       "      <th>orbital_period</th>\n",
       "      <th>mass</th>\n",
       "      <th>distance</th>\n",
       "      <th>year</th>\n",
       "    </tr>\n",
       "  </thead>\n",
       "  <tbody>\n",
       "    <tr>\n",
       "      <th>0</th>\n",
       "      <td>Radial Velocity</td>\n",
       "      <td>1</td>\n",
       "      <td>269.300</td>\n",
       "      <td>7.10</td>\n",
       "      <td>77.40</td>\n",
       "      <td>2006-01-01</td>\n",
       "    </tr>\n",
       "    <tr>\n",
       "      <th>1</th>\n",
       "      <td>Radial Velocity</td>\n",
       "      <td>1</td>\n",
       "      <td>874.774</td>\n",
       "      <td>2.21</td>\n",
       "      <td>56.95</td>\n",
       "      <td>2008-01-01</td>\n",
       "    </tr>\n",
       "    <tr>\n",
       "      <th>2</th>\n",
       "      <td>Radial Velocity</td>\n",
       "      <td>1</td>\n",
       "      <td>763.000</td>\n",
       "      <td>2.60</td>\n",
       "      <td>19.84</td>\n",
       "      <td>2011-01-01</td>\n",
       "    </tr>\n",
       "    <tr>\n",
       "      <th>3</th>\n",
       "      <td>Radial Velocity</td>\n",
       "      <td>1</td>\n",
       "      <td>326.030</td>\n",
       "      <td>19.40</td>\n",
       "      <td>110.62</td>\n",
       "      <td>2007-01-01</td>\n",
       "    </tr>\n",
       "    <tr>\n",
       "      <th>4</th>\n",
       "      <td>Radial Velocity</td>\n",
       "      <td>1</td>\n",
       "      <td>516.220</td>\n",
       "      <td>10.50</td>\n",
       "      <td>119.47</td>\n",
       "      <td>2009-01-01</td>\n",
       "    </tr>\n",
       "  </tbody>\n",
       "</table>\n",
       "</div>"
      ],
      "text/plain": [
       "            method  number  orbital_period   mass  distance       year\n",
       "0  Radial Velocity       1         269.300   7.10     77.40 2006-01-01\n",
       "1  Radial Velocity       1         874.774   2.21     56.95 2008-01-01\n",
       "2  Radial Velocity       1         763.000   2.60     19.84 2011-01-01\n",
       "3  Radial Velocity       1         326.030  19.40    110.62 2007-01-01\n",
       "4  Radial Velocity       1         516.220  10.50    119.47 2009-01-01"
      ]
     },
     "execution_count": 82,
     "metadata": {},
     "output_type": "execute_result"
    }
   ],
   "source": [
    "planets[\"method\"] = planets[\"method\"].astype(\"category\")\n",
    "planets[\"year\"] = pd.to_datetime(planets[\"year\"].astype(str), format=\"%Y\")\n",
    "planets.head()"
   ]
  },
  {
   "cell_type": "code",
   "execution_count": 83,
   "id": "16504f8d",
   "metadata": {},
   "outputs": [
    {
     "name": "stdout",
     "output_type": "stream",
     "text": [
      "<class 'pandas.core.frame.DataFrame'>\n",
      "RangeIndex: 1035 entries, 0 to 1034\n",
      "Data columns (total 6 columns):\n",
      " #   Column          Non-Null Count  Dtype         \n",
      "---  ------          --------------  -----         \n",
      " 0   method          1035 non-null   category      \n",
      " 1   number          1035 non-null   int64         \n",
      " 2   orbital_period  992 non-null    float64       \n",
      " 3   mass            513 non-null    float64       \n",
      " 4   distance        808 non-null    float64       \n",
      " 5   year            1035 non-null   datetime64[ns]\n",
      "dtypes: category(1), datetime64[ns](1), float64(3), int64(1)\n",
      "memory usage: 41.9 KB\n"
     ]
    }
   ],
   "source": [
    "planets.info()"
   ]
  },
  {
   "cell_type": "markdown",
   "id": "24122981",
   "metadata": {},
   "source": [
    "**we can convert Pandas -> Arrow**"
   ]
  },
  {
   "cell_type": "code",
   "execution_count": 84,
   "id": "6341fde0",
   "metadata": {},
   "outputs": [],
   "source": [
    "table = pa.Table.from_pandas(planets)"
   ]
  },
  {
   "cell_type": "code",
   "execution_count": 85,
   "id": "55da651e",
   "metadata": {},
   "outputs": [
    {
     "data": {
      "text/plain": [
       "pyarrow.Table\n",
       "method: dictionary<values=string, indices=int8, ordered=0>\n",
       "number: int64\n",
       "orbital_period: double\n",
       "mass: double\n",
       "distance: double\n",
       "year: timestamp[ns]"
      ]
     },
     "execution_count": 85,
     "metadata": {},
     "output_type": "execute_result"
    }
   ],
   "source": [
    "table"
   ]
  },
  {
   "cell_type": "code",
   "execution_count": 86,
   "id": "e299ce32",
   "metadata": {},
   "outputs": [],
   "source": [
    "schema = pa.Schema.from_pandas(planets)"
   ]
  },
  {
   "cell_type": "markdown",
   "id": "8e204106",
   "metadata": {},
   "source": [
    "**and back to pandas, without losing the structure (there are limitation, for example multi-index)**"
   ]
  },
  {
   "cell_type": "code",
   "execution_count": 87,
   "id": "53b6c55d",
   "metadata": {},
   "outputs": [
    {
     "data": {
      "text/html": [
       "<div>\n",
       "<style scoped>\n",
       "    .dataframe tbody tr th:only-of-type {\n",
       "        vertical-align: middle;\n",
       "    }\n",
       "\n",
       "    .dataframe tbody tr th {\n",
       "        vertical-align: top;\n",
       "    }\n",
       "\n",
       "    .dataframe thead th {\n",
       "        text-align: right;\n",
       "    }\n",
       "</style>\n",
       "<table border=\"1\" class=\"dataframe\">\n",
       "  <thead>\n",
       "    <tr style=\"text-align: right;\">\n",
       "      <th></th>\n",
       "      <th>method</th>\n",
       "      <th>number</th>\n",
       "      <th>orbital_period</th>\n",
       "      <th>mass</th>\n",
       "      <th>distance</th>\n",
       "      <th>year</th>\n",
       "    </tr>\n",
       "  </thead>\n",
       "  <tbody>\n",
       "    <tr>\n",
       "      <th>0</th>\n",
       "      <td>Radial Velocity</td>\n",
       "      <td>1</td>\n",
       "      <td>269.300</td>\n",
       "      <td>7.10</td>\n",
       "      <td>77.40</td>\n",
       "      <td>2006-01-01</td>\n",
       "    </tr>\n",
       "    <tr>\n",
       "      <th>1</th>\n",
       "      <td>Radial Velocity</td>\n",
       "      <td>1</td>\n",
       "      <td>874.774</td>\n",
       "      <td>2.21</td>\n",
       "      <td>56.95</td>\n",
       "      <td>2008-01-01</td>\n",
       "    </tr>\n",
       "    <tr>\n",
       "      <th>2</th>\n",
       "      <td>Radial Velocity</td>\n",
       "      <td>1</td>\n",
       "      <td>763.000</td>\n",
       "      <td>2.60</td>\n",
       "      <td>19.84</td>\n",
       "      <td>2011-01-01</td>\n",
       "    </tr>\n",
       "    <tr>\n",
       "      <th>3</th>\n",
       "      <td>Radial Velocity</td>\n",
       "      <td>1</td>\n",
       "      <td>326.030</td>\n",
       "      <td>19.40</td>\n",
       "      <td>110.62</td>\n",
       "      <td>2007-01-01</td>\n",
       "    </tr>\n",
       "    <tr>\n",
       "      <th>4</th>\n",
       "      <td>Radial Velocity</td>\n",
       "      <td>1</td>\n",
       "      <td>516.220</td>\n",
       "      <td>10.50</td>\n",
       "      <td>119.47</td>\n",
       "      <td>2009-01-01</td>\n",
       "    </tr>\n",
       "  </tbody>\n",
       "</table>\n",
       "</div>"
      ],
      "text/plain": [
       "            method  number  orbital_period   mass  distance       year\n",
       "0  Radial Velocity       1         269.300   7.10     77.40 2006-01-01\n",
       "1  Radial Velocity       1         874.774   2.21     56.95 2008-01-01\n",
       "2  Radial Velocity       1         763.000   2.60     19.84 2011-01-01\n",
       "3  Radial Velocity       1         326.030  19.40    110.62 2007-01-01\n",
       "4  Radial Velocity       1         516.220  10.50    119.47 2009-01-01"
      ]
     },
     "execution_count": 87,
     "metadata": {},
     "output_type": "execute_result"
    }
   ],
   "source": [
    "table.to_pandas().head()"
   ]
  },
  {
   "cell_type": "code",
   "execution_count": 88,
   "id": "398b9ed6",
   "metadata": {},
   "outputs": [
    {
     "name": "stdout",
     "output_type": "stream",
     "text": [
      "<class 'pandas.core.frame.DataFrame'>\n",
      "RangeIndex: 1035 entries, 0 to 1034\n",
      "Data columns (total 6 columns):\n",
      " #   Column          Non-Null Count  Dtype         \n",
      "---  ------          --------------  -----         \n",
      " 0   method          1035 non-null   category      \n",
      " 1   number          1035 non-null   int64         \n",
      " 2   orbital_period  992 non-null    float64       \n",
      " 3   mass            513 non-null    float64       \n",
      " 4   distance        808 non-null    float64       \n",
      " 5   year            1035 non-null   datetime64[ns]\n",
      "dtypes: category(1), datetime64[ns](1), float64(3), int64(1)\n",
      "memory usage: 41.9 KB\n"
     ]
    }
   ],
   "source": [
    "table.to_pandas().info()"
   ]
  },
  {
   "cell_type": "markdown",
   "id": "1957762d",
   "metadata": {},
   "source": [
    "## Pandas native support for read/write arrow format\n",
    "You can save pandas dataframes both as feather files or parquet\n",
    "\n",
    "### Feather\n",
    "from [pandas guide](https://pandas.pydata.org/pandas-docs/stable/user_guide/io.html#feather):\n",
    "> Feather provides binary columnar serialization for data frames. It is designed to make reading and writing data frames efficient, and to make sharing data across data analysis languages easy."
   ]
  },
  {
   "cell_type": "code",
   "execution_count": 89,
   "id": "4dc6814c",
   "metadata": {},
   "outputs": [],
   "source": [
    "planets.to_feather(\"data/planets.feather\", compression=\"uncompressed\")"
   ]
  },
  {
   "cell_type": "markdown",
   "id": "49c440f0",
   "metadata": {},
   "source": [
    "`uncompressed` prevent the compression of the data. Feather files are higly otimized. However, the deafault installation of arrow in R from CRAN does not enable the compression.  "
   ]
  },
  {
   "cell_type": "markdown",
   "id": "0e1aa60f",
   "metadata": {},
   "source": [
    "### Parquet\n",
    "\n",
    "from [pandas guide](https://pandas.pydata.org/pandas-docs/stable/user_guide/io.html#parquet):\n",
    "> Apache Parquet provides a partitioned binary columnar serialization for data frames. It is designed to make reading and writing data frames efficient, and to make sharing data across data analysis languages easy. Parquet can use a variety of compression techniques to shrink the file size as much as possible while still maintaining good read performance."
   ]
  },
  {
   "cell_type": "code",
   "execution_count": 90,
   "id": "e862eb11",
   "metadata": {},
   "outputs": [],
   "source": [
    "planets.to_parquet(\"data/planets.parquet\", engine=\"pyarrow\")"
   ]
  },
  {
   "cell_type": "code",
   "execution_count": null,
   "id": "85f39b8a",
   "metadata": {},
   "outputs": [],
   "source": []
  }
 ],
 "metadata": {
  "kernelspec": {
   "display_name": "Python [conda env:ds] *",
   "language": "python",
   "name": "conda-env-ds-py"
  },
  "language_info": {
   "codemirror_mode": {
    "name": "ipython",
    "version": 3
   },
   "file_extension": ".py",
   "mimetype": "text/x-python",
   "name": "python",
   "nbconvert_exporter": "python",
   "pygments_lexer": "ipython3",
   "version": "3.9.2"
  }
 },
 "nbformat": 4,
 "nbformat_minor": 5
}
