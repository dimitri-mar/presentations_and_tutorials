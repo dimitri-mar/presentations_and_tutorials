{
 "cells": [
  {
   "cell_type": "markdown",
   "id": "cad1de88",
   "metadata": {},
   "source": [
    "# From Python to R\n",
    "Dimitri Marinelli  \n",
    "25/5/2021 - #DataForGood - CorrelAid Rhein-Main  \n",
    "\n",
    "\n",
    "`rpy2` provides an interface between Python and R.  \n",
    "<img src=\"https://rpy2.github.io/doc/latest/html/_images/rpy2_logo.png\">"
   ]
  },
  {
   "cell_type": "code",
   "execution_count": 11,
   "id": "df3771d9",
   "metadata": {},
   "outputs": [
    {
     "name": "stdout",
     "output_type": "stream",
     "text": [
      "3.4.4\n"
     ]
    }
   ],
   "source": [
    "import rpy2\n",
    "print(rpy2.__version__)"
   ]
  },
  {
   "cell_type": "markdown",
   "id": "ccf711fe",
   "metadata": {},
   "source": [
    "From the [documentation](https://rpy2.github.io/doc/v3.4.x/html/overview.html#design-notes) \n",
    "> The package is made of several sub-packages or modules:\n",
    "> \n",
    "> - `rpy2.rinterface` - Low-level interface to R, when speed and flexibility\n",
    "> matter most. Close to R's C-level API.\n",
    "> \n",
    "> - `rpy2.robjects` - High-level interface, when ease-of-use matters most.\n",
    "> Should be the right pick for casual and general use.\n",
    "> Based on the previous one.\n",
    "> \n",
    "> - `rpy2.interactive` - High-level interface, with an eye for interactive work. Largely based\n",
    "> on `rpy2.robjects`.\n",
    "> \n",
    "> - `rpy2.rlike` - Data structures and functions to mimic some of R's features and specificities\n",
    "> in pure Python (no embedded R process)."
   ]
  },
  {
   "cell_type": "markdown",
   "id": "f7597b5c",
   "metadata": {},
   "source": [
    "## Load libraries and install packages"
   ]
  },
  {
   "cell_type": "code",
   "execution_count": 2,
   "id": "c6d1f351",
   "metadata": {},
   "outputs": [],
   "source": [
    "from rpy2.robjects.packages import importr\n",
    "# import R's \"base\" package\n",
    "base = importr('base')\n",
    "\n",
    "# import R's \"utils\" package\n",
    "utils = importr('utils')"
   ]
  },
  {
   "cell_type": "markdown",
   "id": "ecda84b5",
   "metadata": {},
   "source": [
    "In robjects, there is a module for managing the packages"
   ]
  },
  {
   "cell_type": "code",
   "execution_count": 3,
   "id": "1f4255ad",
   "metadata": {},
   "outputs": [],
   "source": [
    "# import rpy2's package module\n",
    "import rpy2.robjects.packages as rpackages\n",
    "\n",
    "# import R's utility package\n",
    "utils = rpackages.importr('utils')\n"
   ]
  },
  {
   "cell_type": "code",
   "execution_count": 4,
   "id": "8b653617",
   "metadata": {},
   "outputs": [
    {
     "data": {
      "text/plain": [
       "<rpy2.rinterface_lib.sexp.NULLType object at 0x7f88dc29ecd0> [RTYPES.NILSXP]"
      ]
     },
     "execution_count": 4,
     "metadata": {},
     "output_type": "execute_result"
    }
   ],
   "source": [
    "# select a mirror for R packages\n",
    "utils.chooseCRANmirror(ind=36) # select the 36th mirror in the list"
   ]
  },
  {
   "cell_type": "code",
   "execution_count": 5,
   "id": "8eb4b686",
   "metadata": {},
   "outputs": [
    {
     "data": {
      "text/plain": [
       "\u001b[0;31mInit signature:\u001b[0m \u001b[0mStrVector\u001b[0m\u001b[0;34m(\u001b[0m\u001b[0mobj\u001b[0m\u001b[0;34m)\u001b[0m\u001b[0;34m\u001b[0m\u001b[0;34m\u001b[0m\u001b[0m\n",
       "\u001b[0;31mDocstring:\u001b[0m     \n",
       "Vector of string elements\n",
       "\n",
       "StrVector(seq) -> StrVector.\n",
       "\n",
       "The parameter 'seq' can be an instance inheriting from\n",
       "rinterface.SexpVector, or an arbitrary Python sequence.\n",
       "In the later case, all elements in the sequence should be either\n",
       "strings, or have a str() representation.\n",
       "\u001b[0;31mFile:\u001b[0m           ~/miniconda3/envs/PyAndR/lib/python3.7/site-packages/rpy2/robjects/vectors.py\n",
       "\u001b[0;31mType:\u001b[0m           ABCMeta\n",
       "\u001b[0;31mSubclasses:\u001b[0m     StrArray, StrMatrix\n"
      ]
     },
     "metadata": {},
     "output_type": "display_data"
    }
   ],
   "source": [
    "# R package names\n",
    "packnames = ('ggplot2', 'tidyverse')\n",
    "\n",
    "# R vector of strings\n",
    "from rpy2.robjects.vectors import StrVector\n",
    "\n",
    "StrVector?"
   ]
  },
  {
   "cell_type": "code",
   "execution_count": 6,
   "id": "abfb6f25",
   "metadata": {},
   "outputs": [],
   "source": [
    "# utils.install_packages(StrVector(packnames))"
   ]
  },
  {
   "cell_type": "markdown",
   "id": "b991a95b",
   "metadata": {},
   "source": [
    "With conda I had to install tidyverse with `conda install r-tidyverse`"
   ]
  },
  {
   "cell_type": "markdown",
   "id": "faa137cf",
   "metadata": {},
   "source": [
    "## Use R in Jupyter \n",
    "\n",
    "Let's load a dataset"
   ]
  },
  {
   "cell_type": "code",
   "execution_count": 12,
   "id": "6c5a91fa",
   "metadata": {},
   "outputs": [
    {
     "data": {
      "text/html": [
       "<div>\n",
       "<style scoped>\n",
       "    .dataframe tbody tr th:only-of-type {\n",
       "        vertical-align: middle;\n",
       "    }\n",
       "\n",
       "    .dataframe tbody tr th {\n",
       "        vertical-align: top;\n",
       "    }\n",
       "\n",
       "    .dataframe thead th {\n",
       "        text-align: right;\n",
       "    }\n",
       "</style>\n",
       "<table border=\"1\" class=\"dataframe\">\n",
       "  <thead>\n",
       "    <tr style=\"text-align: right;\">\n",
       "      <th></th>\n",
       "      <th>method</th>\n",
       "      <th>number</th>\n",
       "      <th>orbital_period</th>\n",
       "      <th>mass</th>\n",
       "      <th>distance</th>\n",
       "      <th>year</th>\n",
       "    </tr>\n",
       "  </thead>\n",
       "  <tbody>\n",
       "    <tr>\n",
       "      <th>0</th>\n",
       "      <td>Radial Velocity</td>\n",
       "      <td>1</td>\n",
       "      <td>269.300</td>\n",
       "      <td>7.10</td>\n",
       "      <td>77.40</td>\n",
       "      <td>2006</td>\n",
       "    </tr>\n",
       "    <tr>\n",
       "      <th>1</th>\n",
       "      <td>Radial Velocity</td>\n",
       "      <td>1</td>\n",
       "      <td>874.774</td>\n",
       "      <td>2.21</td>\n",
       "      <td>56.95</td>\n",
       "      <td>2008</td>\n",
       "    </tr>\n",
       "    <tr>\n",
       "      <th>2</th>\n",
       "      <td>Radial Velocity</td>\n",
       "      <td>1</td>\n",
       "      <td>763.000</td>\n",
       "      <td>2.60</td>\n",
       "      <td>19.84</td>\n",
       "      <td>2011</td>\n",
       "    </tr>\n",
       "    <tr>\n",
       "      <th>3</th>\n",
       "      <td>Radial Velocity</td>\n",
       "      <td>1</td>\n",
       "      <td>326.030</td>\n",
       "      <td>19.40</td>\n",
       "      <td>110.62</td>\n",
       "      <td>2007</td>\n",
       "    </tr>\n",
       "    <tr>\n",
       "      <th>4</th>\n",
       "      <td>Radial Velocity</td>\n",
       "      <td>1</td>\n",
       "      <td>516.220</td>\n",
       "      <td>10.50</td>\n",
       "      <td>119.47</td>\n",
       "      <td>2009</td>\n",
       "    </tr>\n",
       "  </tbody>\n",
       "</table>\n",
       "</div>"
      ],
      "text/plain": [
       "            method  number  orbital_period   mass  distance  year\n",
       "0  Radial Velocity       1         269.300   7.10     77.40  2006\n",
       "1  Radial Velocity       1         874.774   2.21     56.95  2008\n",
       "2  Radial Velocity       1         763.000   2.60     19.84  2011\n",
       "3  Radial Velocity       1         326.030  19.40    110.62  2007\n",
       "4  Radial Velocity       1         516.220  10.50    119.47  2009"
      ]
     },
     "execution_count": 12,
     "metadata": {},
     "output_type": "execute_result"
    }
   ],
   "source": [
    "import seaborn as sns\n",
    "planets = sns.load_dataset(\"planets\")\n",
    "planets.head()"
   ]
  },
  {
   "cell_type": "code",
   "execution_count": 13,
   "id": "a8b6e09f",
   "metadata": {},
   "outputs": [
    {
     "name": "stdout",
     "output_type": "stream",
     "text": [
      "The rpy2.ipython extension is already loaded. To reload it, use:\n",
      "  %reload_ext rpy2.ipython\n"
     ]
    }
   ],
   "source": [
    "%load_ext rpy2.ipython"
   ]
  },
  {
   "cell_type": "code",
   "execution_count": 15,
   "id": "91fc6bae",
   "metadata": {},
   "outputs": [
    {
     "name": "stdout",
     "output_type": "stream",
     "text": [
      "\u001b[90m# A tibble: 1,035 x 7\u001b[39m\n",
      "   method          number orbital_period   mass distance  year op_mass_ratio\n",
      "   \u001b[3m\u001b[90m<chr>\u001b[39m\u001b[23m            \u001b[3m\u001b[90m<int>\u001b[39m\u001b[23m          \u001b[3m\u001b[90m<dbl>\u001b[39m\u001b[23m  \u001b[3m\u001b[90m<dbl>\u001b[39m\u001b[23m    \u001b[3m\u001b[90m<dbl>\u001b[39m\u001b[23m \u001b[3m\u001b[90m<int>\u001b[39m\u001b[23m         \u001b[3m\u001b[90m<dbl>\u001b[39m\u001b[23m\n",
      "\u001b[90m 1\u001b[39m Radial Velocity      1           269.   7.1      77.4  \u001b[4m2\u001b[24m006          37.9\n",
      "\u001b[90m 2\u001b[39m Radial Velocity      1           875.   2.21     57.0  \u001b[4m2\u001b[24m008         396. \n",
      "\u001b[90m 3\u001b[39m Radial Velocity      1           763    2.6      19.8  \u001b[4m2\u001b[24m011         293. \n",
      "\u001b[90m 4\u001b[39m Radial Velocity      1           326.  19.4     111.   \u001b[4m2\u001b[24m007          16.8\n",
      "\u001b[90m 5\u001b[39m Radial Velocity      1           516.  10.5     119.   \u001b[4m2\u001b[24m009          49.2\n",
      "\u001b[90m 6\u001b[39m Radial Velocity      1           186.   4.8      76.4  \u001b[4m2\u001b[24m008          38.7\n",
      "\u001b[90m 7\u001b[39m Radial Velocity      1          \u001b[4m1\u001b[24m773.   4.64     18.2  \u001b[4m2\u001b[24m002         382. \n",
      "\u001b[90m 8\u001b[39m Radial Velocity      1           798. \u001b[31mNaN\u001b[39m        21.4  \u001b[4m1\u001b[24m996         \u001b[31mNaN\u001b[39m  \n",
      "\u001b[90m 9\u001b[39m Radial Velocity      1           993.  10.3      73.1  \u001b[4m2\u001b[24m008          96.4\n",
      "\u001b[90m10\u001b[39m Radial Velocity      2           453.   1.99     74.8  \u001b[4m2\u001b[24m010         228. \n",
      "\u001b[90m# … with 1,025 more rows\u001b[39m\n"
     ]
    }
   ],
   "source": [
    "%%R -i planets -o planets_mutated\n",
    "library(\"tidyverse\")\n",
    "planets_mutated <- planets %>% as_tibble() %>%  \n",
    "    mutate(op_mass_ratio = orbital_period / mass)\n",
    "planets_mutated"
   ]
  },
  {
   "cell_type": "code",
   "execution_count": 16,
   "id": "2a4f017d",
   "metadata": {},
   "outputs": [
    {
     "data": {
      "text/html": [
       "<div>\n",
       "<style scoped>\n",
       "    .dataframe tbody tr th:only-of-type {\n",
       "        vertical-align: middle;\n",
       "    }\n",
       "\n",
       "    .dataframe tbody tr th {\n",
       "        vertical-align: top;\n",
       "    }\n",
       "\n",
       "    .dataframe thead th {\n",
       "        text-align: right;\n",
       "    }\n",
       "</style>\n",
       "<table border=\"1\" class=\"dataframe\">\n",
       "  <thead>\n",
       "    <tr style=\"text-align: right;\">\n",
       "      <th></th>\n",
       "      <th>method</th>\n",
       "      <th>number</th>\n",
       "      <th>orbital_period</th>\n",
       "      <th>mass</th>\n",
       "      <th>distance</th>\n",
       "      <th>year</th>\n",
       "      <th>op_mass_ratio</th>\n",
       "    </tr>\n",
       "  </thead>\n",
       "  <tbody>\n",
       "    <tr>\n",
       "      <th>1</th>\n",
       "      <td>Radial Velocity</td>\n",
       "      <td>1</td>\n",
       "      <td>269.300000</td>\n",
       "      <td>7.10</td>\n",
       "      <td>77.40</td>\n",
       "      <td>2006</td>\n",
       "      <td>37.929577</td>\n",
       "    </tr>\n",
       "    <tr>\n",
       "      <th>2</th>\n",
       "      <td>Radial Velocity</td>\n",
       "      <td>1</td>\n",
       "      <td>874.774000</td>\n",
       "      <td>2.21</td>\n",
       "      <td>56.95</td>\n",
       "      <td>2008</td>\n",
       "      <td>395.825339</td>\n",
       "    </tr>\n",
       "    <tr>\n",
       "      <th>3</th>\n",
       "      <td>Radial Velocity</td>\n",
       "      <td>1</td>\n",
       "      <td>763.000000</td>\n",
       "      <td>2.60</td>\n",
       "      <td>19.84</td>\n",
       "      <td>2011</td>\n",
       "      <td>293.461538</td>\n",
       "    </tr>\n",
       "    <tr>\n",
       "      <th>4</th>\n",
       "      <td>Radial Velocity</td>\n",
       "      <td>1</td>\n",
       "      <td>326.030000</td>\n",
       "      <td>19.40</td>\n",
       "      <td>110.62</td>\n",
       "      <td>2007</td>\n",
       "      <td>16.805670</td>\n",
       "    </tr>\n",
       "    <tr>\n",
       "      <th>5</th>\n",
       "      <td>Radial Velocity</td>\n",
       "      <td>1</td>\n",
       "      <td>516.220000</td>\n",
       "      <td>10.50</td>\n",
       "      <td>119.47</td>\n",
       "      <td>2009</td>\n",
       "      <td>49.163810</td>\n",
       "    </tr>\n",
       "    <tr>\n",
       "      <th>...</th>\n",
       "      <td>...</td>\n",
       "      <td>...</td>\n",
       "      <td>...</td>\n",
       "      <td>...</td>\n",
       "      <td>...</td>\n",
       "      <td>...</td>\n",
       "      <td>...</td>\n",
       "    </tr>\n",
       "    <tr>\n",
       "      <th>1031</th>\n",
       "      <td>Transit</td>\n",
       "      <td>1</td>\n",
       "      <td>3.941507</td>\n",
       "      <td>NaN</td>\n",
       "      <td>172.00</td>\n",
       "      <td>2006</td>\n",
       "      <td>NaN</td>\n",
       "    </tr>\n",
       "    <tr>\n",
       "      <th>1032</th>\n",
       "      <td>Transit</td>\n",
       "      <td>1</td>\n",
       "      <td>2.615864</td>\n",
       "      <td>NaN</td>\n",
       "      <td>148.00</td>\n",
       "      <td>2007</td>\n",
       "      <td>NaN</td>\n",
       "    </tr>\n",
       "    <tr>\n",
       "      <th>1033</th>\n",
       "      <td>Transit</td>\n",
       "      <td>1</td>\n",
       "      <td>3.191524</td>\n",
       "      <td>NaN</td>\n",
       "      <td>174.00</td>\n",
       "      <td>2007</td>\n",
       "      <td>NaN</td>\n",
       "    </tr>\n",
       "    <tr>\n",
       "      <th>1034</th>\n",
       "      <td>Transit</td>\n",
       "      <td>1</td>\n",
       "      <td>4.125083</td>\n",
       "      <td>NaN</td>\n",
       "      <td>293.00</td>\n",
       "      <td>2008</td>\n",
       "      <td>NaN</td>\n",
       "    </tr>\n",
       "    <tr>\n",
       "      <th>1035</th>\n",
       "      <td>Transit</td>\n",
       "      <td>1</td>\n",
       "      <td>4.187757</td>\n",
       "      <td>NaN</td>\n",
       "      <td>260.00</td>\n",
       "      <td>2008</td>\n",
       "      <td>NaN</td>\n",
       "    </tr>\n",
       "  </tbody>\n",
       "</table>\n",
       "<p>1035 rows × 7 columns</p>\n",
       "</div>"
      ],
      "text/plain": [
       "               method  number  orbital_period   mass  distance  year  \\\n",
       "1     Radial Velocity       1      269.300000   7.10     77.40  2006   \n",
       "2     Radial Velocity       1      874.774000   2.21     56.95  2008   \n",
       "3     Radial Velocity       1      763.000000   2.60     19.84  2011   \n",
       "4     Radial Velocity       1      326.030000  19.40    110.62  2007   \n",
       "5     Radial Velocity       1      516.220000  10.50    119.47  2009   \n",
       "...               ...     ...             ...    ...       ...   ...   \n",
       "1031          Transit       1        3.941507    NaN    172.00  2006   \n",
       "1032          Transit       1        2.615864    NaN    148.00  2007   \n",
       "1033          Transit       1        3.191524    NaN    174.00  2007   \n",
       "1034          Transit       1        4.125083    NaN    293.00  2008   \n",
       "1035          Transit       1        4.187757    NaN    260.00  2008   \n",
       "\n",
       "      op_mass_ratio  \n",
       "1         37.929577  \n",
       "2        395.825339  \n",
       "3        293.461538  \n",
       "4         16.805670  \n",
       "5         49.163810  \n",
       "...             ...  \n",
       "1031            NaN  \n",
       "1032            NaN  \n",
       "1033            NaN  \n",
       "1034            NaN  \n",
       "1035            NaN  \n",
       "\n",
       "[1035 rows x 7 columns]"
      ]
     },
     "execution_count": 16,
     "metadata": {},
     "output_type": "execute_result"
    }
   ],
   "source": [
    "planets_mutated"
   ]
  },
  {
   "cell_type": "markdown",
   "id": "1481caa7",
   "metadata": {},
   "source": [
    "more information on the interactivity and the possible options https://rpy2.github.io/doc/latest/html/interactive.html"
   ]
  },
  {
   "cell_type": "code",
   "execution_count": null,
   "id": "8c1c4c6a",
   "metadata": {},
   "outputs": [],
   "source": []
  }
 ],
 "metadata": {
  "kernelspec": {
   "display_name": "Python [conda env:PyAndR]",
   "language": "python",
   "name": "conda-env-PyAndR-py"
  },
  "language_info": {
   "codemirror_mode": {
    "name": "ipython",
    "version": 3
   },
   "file_extension": ".py",
   "mimetype": "text/x-python",
   "name": "python",
   "nbconvert_exporter": "python",
   "pygments_lexer": "ipython3",
   "version": "3.7.10"
  }
 },
 "nbformat": 4,
 "nbformat_minor": 5
}
